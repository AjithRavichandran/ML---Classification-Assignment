{
 "cells": [
  {
   "cell_type": "code",
   "execution_count": 1,
   "id": "7334348c-893f-4ddb-aeec-fd6d3cf5d5ca",
   "metadata": {},
   "outputs": [],
   "source": [
    "import pickle"
   ]
  },
  {
   "cell_type": "code",
   "execution_count": 2,
   "id": "23ab18c6-ded7-4230-86a4-6408db8fed00",
   "metadata": {},
   "outputs": [
    {
     "name": "stderr",
     "output_type": "stream",
     "text": [
      "C:\\Anaconda3\\Lib\\site-packages\\sklearn\\base.py:493: UserWarning: X does not have valid feature names, but RandomForestClassifier was fitted with feature names\n",
      "  warnings.warn(\n"
     ]
    }
   ],
   "source": [
    "load=pickle.load(open('Final Classification Model.sav','rb'))\n",
    "result=load.predict([[2,76.4599483204134,3435,3434,5453,324,5656,234,656,343,6564,32,67,234,564,32423,5453,23,5,56,43,67,43,89,34,54,56]])"
   ]
  },
  {
   "cell_type": "code",
   "execution_count": 3,
   "id": "e0c4c786-db7a-4a39-b73f-2d1222eb4b50",
   "metadata": {},
   "outputs": [
    {
     "data": {
      "text/plain": [
       "array([1])"
      ]
     },
     "execution_count": 3,
     "metadata": {},
     "output_type": "execute_result"
    }
   ],
   "source": [
    "result"
   ]
  },
  {
   "cell_type": "code",
   "execution_count": null,
   "id": "a4d27d99-6dd9-4136-9b15-785a08c86ea2",
   "metadata": {},
   "outputs": [],
   "source": []
  }
 ],
 "metadata": {
  "kernelspec": {
   "display_name": "Python 3 (ipykernel)",
   "language": "python",
   "name": "python3"
  },
  "language_info": {
   "codemirror_mode": {
    "name": "ipython",
    "version": 3
   },
   "file_extension": ".py",
   "mimetype": "text/x-python",
   "name": "python",
   "nbconvert_exporter": "python",
   "pygments_lexer": "ipython3",
   "version": "3.12.4"
  }
 },
 "nbformat": 4,
 "nbformat_minor": 5
}
